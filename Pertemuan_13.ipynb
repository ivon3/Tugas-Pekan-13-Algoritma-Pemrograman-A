{
  "nbformat": 4,
  "nbformat_minor": 0,
  "metadata": {
    "colab": {
      "name": "Pertemuan 13.ipynb",
      "provenance": [],
      "authorship_tag": "ABX9TyP8a3sx0Ph8eiZVm12eH5rf",
      "include_colab_link": true
    },
    "kernelspec": {
      "name": "python3",
      "display_name": "Python 3"
    },
    "language_info": {
      "name": "python"
    }
  },
  "cells": [
    {
      "cell_type": "markdown",
      "metadata": {
        "id": "view-in-github",
        "colab_type": "text"
      },
      "source": [
        "<a href=\"https://colab.research.google.com/github/ivon3/Tugas-Pekan-13-Algoritma-Pemrograman-A/blob/main/Pertemuan_13.ipynb\" target=\"_parent\"><img src=\"https://colab.research.google.com/assets/colab-badge.svg\" alt=\"Open In Colab\"/></a>"
      ]
    },
    {
      "cell_type": "code",
      "execution_count": null,
      "metadata": {
        "colab": {
          "base_uri": "https://localhost:8080/"
        },
        "id": "yz8-CXgohpwf",
        "outputId": "d135df82-4fae-4848-a07b-a22c871c3116"
      },
      "outputs": [
        {
          "output_type": "stream",
          "name": "stdout",
          "text": [
            "Set Nilai Awal = 1\n",
            "Set Nilai Akhir = 100\n",
            "Bilangan antara 1 dan 100\n",
            "1 2 3 4 5 6 7 8 9 10 11 12 13 14 15 16 17 18 19 20 21 22 23 24 25 26 27 28 29 30 31 32 33 34 35 36 37 38 39 40 41 42 43 44 45 46 47 48 49 50 51 52 53 54 55 56 57 58 59 60 61 62 63 64 65 66 67 68 69 70 71 72 73 74 75 76 77 78 79 80 81 82 83 84 85 86 87 88 89 90 91 92 93 94 95 96 97 98 99 100 Bilangan di atas ada 100 bilangan\n",
            "Jumlah semua bilangan adalah 5050\n"
          ]
        }
      ],
      "source": [
        "awal=int(input (\"Set Nilai Awal = \"))\n",
        "akhir=int(input (\"Set Nilai Akhir = \"))\n",
        "\n",
        "count=0\n",
        "summ=0\n",
        "print('Bilangan antara %d dan %d' %(awal,akhir))\n",
        "\n",
        "for i in range (awal,akhir+1):\n",
        "  print(i, =' ')\n",
        "  count=count+1\n",
        "  summ=summ+i\n",
        "\n",
        "print('Bilangan di atas ada %d bilangan' %count)\n",
        "print('Jumlah semua bilangan adalah %d' %summ)\n"
      ]
    },
    {
      "cell_type": "code",
      "source": [
        "awal=int(input (\"Set Nilai Awal = \"))\n",
        "akhir=int(input (\"Set Nilai Akhir = \"))\n",
        "\n",
        "times=1\n",
        "\n",
        "for i in range (awal,akhir+1,3):\n",
        "  print(i, end = ' ')\n",
        "  times=times*i\n",
        "\n",
        "print('Hasil perkalian seluruh bilangan adalah %d' %times)\n",
        "\n",
        "\n",
        "\n",
        "\n"
      ],
      "metadata": {
        "colab": {
          "base_uri": "https://localhost:8080/"
        },
        "id": "8ChMIsBCmsuJ",
        "outputId": "6d3af866-7135-4f5c-9c77-474b623ca59c"
      },
      "execution_count": null,
      "outputs": [
        {
          "output_type": "stream",
          "name": "stdout",
          "text": [
            "Set Nilai Awal = 1\n",
            "Set Nilai Akhir = 10\n",
            "1 4 7 10 Hasil perkalian seluruh bilangan adalah 280\n"
          ]
        }
      ]
    },
    {
      "cell_type": "code",
      "source": [
        "for x in range(1,3):\n",
        "  for y in range(1,3):\n",
        "    for z in range(1,3):\n",
        "      print (x, y, z, x*y*z)\n"
      ],
      "metadata": {
        "colab": {
          "base_uri": "https://localhost:8080/"
        },
        "id": "HjZzEYY6pQoX",
        "outputId": "7df8eba9-847a-482b-f1b2-f2a1c8028479"
      },
      "execution_count": null,
      "outputs": [
        {
          "output_type": "stream",
          "name": "stdout",
          "text": [
            "1 1 1 1\n",
            "1 1 2 2\n",
            "1 2 1 2\n",
            "1 2 2 4\n",
            "2 1 1 2\n",
            "2 1 2 4\n",
            "2 2 1 4\n",
            "2 2 2 8\n"
          ]
        }
      ]
    },
    {
      "cell_type": "code",
      "source": [
        "mat1 = [[3,0],[4,9],]\n",
        "mat2 = [[1,0],[5,9],]\n",
        "\n",
        "for x in range(0, len(mat1)):\n",
        "  for y in range(0, len(mat1[0])):\n",
        "    print (mat1[x][y] + mat2[x][y], end=' '),\n",
        "  print\n"
      ],
      "metadata": {
        "id": "uB10ekyVrmUP",
        "colab": {
          "base_uri": "https://localhost:8080/"
        },
        "outputId": "19b48085-cde1-4f7a-f017-35c737cc1f61"
      },
      "execution_count": null,
      "outputs": [
        {
          "output_type": "stream",
          "name": "stdout",
          "text": [
            "4 0 9 18 "
          ]
        }
      ]
    },
    {
      "cell_type": "code",
      "source": [
        "for i in [12,16,17,24,29]:\n",
        "  if i % 2 == 1:\n",
        "    break\n",
        "  print(i)\n",
        "print('selesai')"
      ],
      "metadata": {
        "colab": {
          "base_uri": "https://localhost:8080/"
        },
        "id": "4m7bHG-EwW10",
        "outputId": "660eae38-f56c-4670-a71d-2591e6a9ebb4"
      },
      "execution_count": null,
      "outputs": [
        {
          "output_type": "stream",
          "name": "stdout",
          "text": [
            "12\n",
            "16\n",
            "selesai\n"
          ]
        }
      ]
    },
    {
      "cell_type": "code",
      "source": [
        ""
      ],
      "metadata": {
        "id": "Ge00Fh4ZxxFB"
      },
      "execution_count": null,
      "outputs": []
    }
  ]
}