{
  "nbformat": 4,
  "nbformat_minor": 0,
  "metadata": {
    "colab": {
      "name": "Tugas_Pertemuan13.ipynb",
      "provenance": [],
      "collapsed_sections": [],
      "authorship_tag": "ABX9TyPP34raEgJApa8pqGUWcpEQ",
      "include_colab_link": true
    },
    "kernelspec": {
      "name": "python3",
      "display_name": "Python 3"
    },
    "language_info": {
      "name": "python"
    }
  },
  "cells": [
    {
      "cell_type": "markdown",
      "metadata": {
        "id": "view-in-github",
        "colab_type": "text"
      },
      "source": [
        "<a href=\"https://colab.research.google.com/github/ivon3/Tugas-Pekan-13-Algoritma-Pemrograman-A/blob/main/Tugas_Pertemuan13.ipynb\" target=\"_parent\"><img src=\"https://colab.research.google.com/assets/colab-badge.svg\" alt=\"Open In Colab\"/></a>"
      ]
    },
    {
      "cell_type": "markdown",
      "source": [
        " **Anni Ivoni Parapa\n",
        "(H051211007)**  "
      ],
      "metadata": {
        "id": "s092oEBWrJzO"
      }
    },
    {
      "cell_type": "markdown",
      "source": [
        "**Latihan Penjumlahan Matriks** "
      ],
      "metadata": {
        "id": "u-yc4Lq4l2Zi"
      }
    },
    {
      "cell_type": "markdown",
      "source": [
        "Buatlah program untuk menghitung penjumlahan 2 buah matriks!"
      ],
      "metadata": {
        "id": "1GI4fqVGnqYN"
      }
    },
    {
      "cell_type": "code",
      "execution_count": null,
      "metadata": {
        "colab": {
          "base_uri": "https://localhost:8080/"
        },
        "id": "FwCTS0L6ljtV",
        "outputId": "371aab00-7780-4483-9c83-396826323082"
      },
      "outputs": [
        {
          "output_type": "stream",
          "name": "stdout",
          "text": [
            "13 8 3 11 "
          ]
        }
      ],
      "source": [
        "mat1 = [[8,7],[3,9],]\n",
        "mat2 = [[5,1],[0,2],]\n",
        "\n",
        "for x in range(0, len(mat1)):\n",
        "  for y in range(0, len(mat1[0])):\n",
        "    print (mat1[x][y] + mat2[x][y], end=' '),\n",
        "  print"
      ]
    },
    {
      "cell_type": "markdown",
      "source": [
        "**Latihan For**"
      ],
      "metadata": {
        "id": "TiRpNpo8nVGq"
      }
    },
    {
      "cell_type": "markdown",
      "source": [
        "No. 1 Buatlah program untuk menghitung total pembelian N buah barang dengan harga dan jumlah tertentu"
      ],
      "metadata": {
        "id": "OEWQ0VeqnybF"
      }
    },
    {
      "cell_type": "code",
      "source": [
        "a =int(input(\"Masukkan jumlah barang:\"))\n",
        "bayar =a\n",
        "if a<10:\n",
        "  bayar = a*35000\n",
        "  print(\"Harga/barang Rp.35000\")\n",
        "elif a>=10:\n",
        "  bayar = a*32500\n",
        "  print(\"Harga/barang Rp.32500\")\n",
        "elif a>20:\n",
        "  bayar = a*30000\n",
        "  print(\"Harga/barang Rp.30000\")\n",
        "\n",
        "print(\"Total harga yang harus dibayar : Rp.%s\"%bayar)"
      ],
      "metadata": {
        "id": "1TNpPw1Qq_n_",
        "colab": {
          "base_uri": "https://localhost:8080/"
        },
        "outputId": "afb088d2-d75f-429c-830b-cd74e3d39d60"
      },
      "execution_count": null,
      "outputs": [
        {
          "output_type": "stream",
          "name": "stdout",
          "text": [
            "Masukkan jumlah barang:22\n",
            "Harga/barang Rp.32500\n",
            "Total harga yang harus dibayar : Rp.715000\n"
          ]
        }
      ]
    },
    {
      "cell_type": "markdown",
      "source": [
        "No. 2 Buatlah program untuk menghitung banyaknya bilangan genap ataupun bilangan ganjil dari N buah bilangan yang diinput secara acak"
      ],
      "metadata": {
        "id": "3uZn5fR8lsUV"
      }
    },
    {
      "cell_type": "code",
      "source": [
        "awal = int(input(\"Masukkan angka awal: \"))\n",
        "akhir= int(input(\"Masukkan angka akhir: \"))\n",
        "x = []\n",
        "y = []\n",
        "for i in range(awal,akhir+1):\n",
        "  if i%2 == 1:\n",
        "    x.append(i)\n",
        "  if i%2 == 0:\n",
        "    y.append(i)\n",
        "print(\"Angka ganjil: \", x)\n",
        "print(\"Angka genap: \", y)"
      ],
      "metadata": {
        "id": "dTgBYXY9rAh8",
        "colab": {
          "base_uri": "https://localhost:8080/"
        },
        "outputId": "875ff3ce-14fe-4214-9669-b03f0f9633c9"
      },
      "execution_count": null,
      "outputs": [
        {
          "output_type": "stream",
          "name": "stdout",
          "text": [
            "Masukkan angka awal: 4\n",
            "Masukkan angka akhir: 25\n",
            "Angka ganjil:  [5, 7, 9, 11, 13, 15, 17, 19, 21, 23, 25]\n",
            "Angka genap:  [4, 6, 8, 10, 12, 14, 16, 18, 20, 22, 24]\n"
          ]
        }
      ]
    },
    {
      "cell_type": "markdown",
      "source": [
        "No. 3 Buatlah program untuk menampilkan bilangan kelipatan 3 diantara bilangan tertentu\n"
      ],
      "metadata": {
        "id": "IfNXHDhComSW"
      }
    },
    {
      "cell_type": "code",
      "source": [
        "awal = int(input(\"Masukkan angka awal: \"))\n",
        "akhir= int(input(\"Masukkan angka akhir: \"))\n",
        "for i in range(awal, akhir+1):\n",
        "  if i%3 ==0:\n",
        "    print('Bilangan kelipatan 3: ', i)"
      ],
      "metadata": {
        "id": "yMDqVpMtrBaW",
        "colab": {
          "base_uri": "https://localhost:8080/"
        },
        "outputId": "29c63e8a-c800-40f8-ec30-e58c1b0ad36a"
      },
      "execution_count": null,
      "outputs": [
        {
          "output_type": "stream",
          "name": "stdout",
          "text": [
            "Masukkan angka awal: 1\n",
            "Masukkan angka akhir: 30\n",
            "Bilangan kelipatan 3:  3\n",
            "Bilangan kelipatan 3:  6\n",
            "Bilangan kelipatan 3:  9\n",
            "Bilangan kelipatan 3:  12\n",
            "Bilangan kelipatan 3:  15\n",
            "Bilangan kelipatan 3:  18\n",
            "Bilangan kelipatan 3:  21\n",
            "Bilangan kelipatan 3:  24\n",
            "Bilangan kelipatan 3:  27\n",
            "Bilangan kelipatan 3:  30\n"
          ]
        }
      ]
    },
    {
      "cell_type": "markdown",
      "source": [
        "No. 4 Buatlah program untuk menampilkan bentuk bilangan seperti berikut ini:\n",
        "Bilangan : <input suatu bilangan (misal:5)>\n",
        "\n",
        "![image.png](data:image/png;base64,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)\n",
        "\n"
      ],
      "metadata": {
        "id": "uQfb6e7Dor0T"
      }
    },
    {
      "cell_type": "code",
      "source": [
        "bil= int(input('Input Bilangan: '))\n",
        "n = ''\n",
        "for i in range(1,bil+1):\n",
        "   n += str(i) + ' '\n",
        "   print(n)"
      ],
      "metadata": {
        "id": "F_x-AucVrDUz",
        "colab": {
          "base_uri": "https://localhost:8080/"
        },
        "outputId": "af08f23a-c9c7-4045-fbf1-0578779c8c72"
      },
      "execution_count": null,
      "outputs": [
        {
          "output_type": "stream",
          "name": "stdout",
          "text": [
            "Input Bilangan: 5\n",
            "1 \n",
            "1 2 \n",
            "1 2 3 \n",
            "1 2 3 4 \n",
            "1 2 3 4 5 \n"
          ]
        }
      ]
    },
    {
      "cell_type": "markdown",
      "source": [
        "No. 5 Buatlah program untuk menghitung dan menampilkan bentuk berikut ini:\n",
        "![image.png](data:image/png;base64,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)"
      ],
      "metadata": {
        "id": "4da2PLa8qpjh"
      }
    },
    {
      "cell_type": "code",
      "source": [
        "from prettytable import PrettyTable\n",
        "tabel_mahasiswa = PrettyTable([\"No.\", \"Nama Mahasiswa\", \"Nilai Tugas\", \"Nilai Kuis\", \"Nilai UTS\", \"Nilai UAS\", \"Nilai Akhir\"])\n",
        "tabel_mahasiswa.add_row([\"1\", \" \", \" \", \" \", \" \", \" \", \" \"])\n",
        "tabel_mahasiswa.add_row([\"2\", \" \", \" \", \" \", \" \", \" \", \" \"])\n",
        "tabel_mahasiswa.add_row([\"..\", \" \", \" \", \" \", \" \", \" \", \" \"])\n",
        "tabel_mahasiswa.add_row([\"N\", \" \", \" \", \" \", \" \", \" \", \" \"])\n",
        "print(tabel_mahasiswa)"
      ],
      "metadata": {
        "colab": {
          "base_uri": "https://localhost:8080/"
        },
        "id": "Y9-kW7_Z4Inx",
        "outputId": "52b388b9-fd7e-439f-ac28-4256a78c2492"
      },
      "execution_count": null,
      "outputs": [
        {
          "output_type": "stream",
          "name": "stdout",
          "text": [
            "+-----+----------------+-------------+------------+-----------+-----------+-------------+\n",
            "| No. | Nama Mahasiswa | Nilai Tugas | Nilai Kuis | Nilai UTS | Nilai UAS | Nilai Akhir |\n",
            "+-----+----------------+-------------+------------+-----------+-----------+-------------+\n",
            "|  1  |                |             |            |           |           |             |\n",
            "|  2  |                |             |            |           |           |             |\n",
            "|  .. |                |             |            |           |           |             |\n",
            "|  N  |                |             |            |           |           |             |\n",
            "+-----+----------------+-------------+------------+-----------+-----------+-------------+\n"
          ]
        }
      ]
    }
  ]
}